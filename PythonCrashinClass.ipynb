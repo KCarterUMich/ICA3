{
  "nbformat": 4,
  "nbformat_minor": 0,
  "metadata": {
    "colab": {
      "provenance": [],
      "include_colab_link": true
    },
    "kernelspec": {
      "name": "python3",
      "display_name": "Python 3"
    },
    "language_info": {
      "name": "python"
    }
  },
  "cells": [
    {
      "cell_type": "markdown",
      "metadata": {
        "id": "view-in-github",
        "colab_type": "text"
      },
      "source": [
        "<a href=\"https://colab.research.google.com/github/KCarterUMich/ICA3/blob/main/PythonCrashinClass.ipynb\" target=\"_parent\"><img src=\"https://colab.research.google.com/assets/colab-badge.svg\" alt=\"Open In Colab\"/></a>"
      ]
    },
    {
      "cell_type": "markdown",
      "source": [
        "#A crash course on Python.\n",
        "\n",
        "Scripts and notes are derived from:\n",
        "\n",
        "An Introduction To Scripting in Python 3\n",
        "By __[Hans van der Kwast](http://www.linkedin.com/in/jvdkwast)__<br>\n",
        "__[IHE Delft Institute for Water Education](http://www.un-ihe.org)__<br>\n",
        "\n",
        "This Jupyter Notebook has been developed based on \"A Beginner's Python Tutorial\" by Steven Thurlow. The original material has been ported to Python 3."
      ],
      "metadata": {
        "id": "ASY1_4cPriZY"
      }
    },
    {
      "cell_type": "code",
      "source": [
        "from google.colab import drive\n",
        "drive.mount('/content/drive')"
      ],
      "metadata": {
        "id": "xI5TYjbFyGUm",
        "outputId": "b7daec71-c78d-41c0-e5ae-0b09c9324201",
        "colab": {
          "base_uri": "https://localhost:8080/"
        }
      },
      "execution_count": 1,
      "outputs": [
        {
          "output_type": "stream",
          "name": "stdout",
          "text": [
            "Mounted at /content/drive\n"
          ]
        }
      ]
    },
    {
      "cell_type": "markdown",
      "source": [
        "# Very simple 'programs'\n",
        "## Running Python from the command line\n",
        "In order to test pieces of code we can run Python from the command line. In this Jupyter Notebook we are going to simulate this. You can type the commands in the fields and execute them.<br>\n",
        "In the field type:<br>\n",
        "```python\n",
        "print('Hello, World')\n",
        "```\n",
        "Then press `<shift> + <return>` to execute the command."
      ],
      "metadata": {
        "id": "ju0SQETBQrZW"
      }
    },
    {
      "cell_type": "code",
      "execution_count": null,
      "metadata": {
        "id": "2TwU8pgUQFWP"
      },
      "outputs": [],
      "source": []
    },
    {
      "cell_type": "markdown",
      "source": [
        "What happened?\n",
        "\n",
        "You just created a program, that prints the words 'Hello, World'. The Python environment that you are in immediately compiles whatever you have typed in. This is useful for testing things, e.g. define a few variables, and then test to see if a certain line will work. That will come in a later lesson, though."
      ],
      "metadata": {
        "id": "8V1hTycCQylz"
      }
    },
    {
      "cell_type": "markdown",
      "source": [
        "## Math in Python\n",
        "Type<br>\n",
        "```python\n",
        "1 + 1\n",
        "```\n",
        "and execute the code."
      ],
      "metadata": {
        "id": "hgd7bdD9Q6KG"
      }
    },
    {
      "cell_type": "code",
      "source": [],
      "metadata": {
        "id": "RmzEtkuAQ_QC"
      },
      "execution_count": null,
      "outputs": []
    },
    {
      "cell_type": "markdown",
      "source": [
        "Type<br>\n",
        "```python\n",
        "print('1 + 2 is an addition')\n",
        "```"
      ],
      "metadata": {
        "id": "A-r-XntERFbh"
      }
    },
    {
      "cell_type": "code",
      "source": [],
      "metadata": {
        "id": "JVHuBxBNRL_a"
      },
      "execution_count": null,
      "outputs": []
    },
    {
      "cell_type": "markdown",
      "source": [
        "You see that the `print` statement writes something on the screen.\n",
        "\n",
        "Try this:\n",
        "```python\n",
        "print('one kilobyte is 2^10 bytes, or', 2 ** 10, 'bytes')\n",
        "```"
      ],
      "metadata": {
        "id": "qBl2moQ6RQpc"
      }
    },
    {
      "cell_type": "code",
      "source": [],
      "metadata": {
        "id": "if37kXRzRReP"
      },
      "execution_count": null,
      "outputs": []
    },
    {
      "cell_type": "markdown",
      "source": [
        "## Comments, Please\n",
        "The final thing you'll need to know to move on to multi-line programs is the comment. Type the following (and yes, the output is shown):\n",
        "```python\n",
        "# I am a comment. Fear my wrath!\n",
        "```"
      ],
      "metadata": {
        "id": "wlak-odeRc5h"
      }
    },
    {
      "cell_type": "markdown",
      "source": [
        "## Variables\n",
        "Now let's start introducing variables. Variables store a value, that can be looked at or changed at a later time. Let's make a program that uses variables:"
      ],
      "metadata": {
        "id": "0GAAR4QYRujk"
      }
    },
    {
      "cell_type": "code",
      "source": [
        "#variables demonstrated\n",
        "print(\"This program is a demo of variables\")\n",
        "v = 1\n",
        "print(\"The value of v is now\", v)\n",
        "v = v + 1\n",
        "print(\"v now equals itself plus one, making it worth\", v)\n",
        "v = 51\n",
        "print(\"v can store any numerical value, to be used elsewhere.\")\n",
        "print(\"for example, in a sentence. v is now worth\", v)\n",
        "print(\"v times 5 equals\", v * 5)\n",
        "print(\"but v still only remains\", v)\n",
        "print(\"to make v five times bigger, you would have to type v = v * 5\")\n",
        "v = v * 5\n",
        "print(\"there you go, now v equals\", v, \"and not\", v / 5)"
      ],
      "metadata": {
        "id": "Mrays52IRv1H"
      },
      "execution_count": null,
      "outputs": []
    },
    {
      "cell_type": "markdown",
      "source": [
        "Run the script and try to understand the results."
      ],
      "metadata": {
        "id": "IPoP5j3qR1HN"
      }
    },
    {
      "cell_type": "markdown",
      "source": [
        "Note that we can also write `v = v + 1` as `v += 1`. This can be used for all operators (e.g. `-=`, `*=`,`/=`). Try it in the code above.\n",
        "\n",
        "It is good practice to use lowercase or camelCase for variables. Don't use special characters and don't start with a number!"
      ],
      "metadata": {
        "id": "zjq0RieRR1nm"
      }
    },
    {
      "cell_type": "markdown",
      "source": [
        "## Strings\n",
        "As you can see, variables store values, for use at a later time. You can change them at any time. You can put in more than numbers, though. Variables can hold things like text. A variable that holds text is called a string. Try this program:"
      ],
      "metadata": {
        "id": "vwSzg9cBR9nW"
      }
    },
    {
      "cell_type": "code",
      "source": [
        "#giving variables text, and adding text.\n",
        "word1 = \"Good\"\n",
        "word2 = \"morning\"\n",
        "word3 = \"to you too!\"\n",
        "print(word1, word2)\n",
        "sentence = word1 + \" \" + word2 + \" \" + word3\n",
        "print(sentence)"
      ],
      "metadata": {
        "id": "kSyu6omuR--y"
      },
      "execution_count": null,
      "outputs": []
    },
    {
      "cell_type": "markdown",
      "source": [
        "As you see, the variables above were holding text. Variable names can also be longer than one letter - here, we had `word1`, `word2`, and `word3`. As you can also see, strings can be added together to make longer words or sentences. However, it doesn't add spaces in between the words - hence me putting in the `\" \"` things (there is one space between those).\n",
        "\n",
        "Often we need to manipulate strings. For example if we want to edit file names or make selections from text. Strings are similar to `lists` that you will learn later. So similar operations (called *list slicing*) apply to strings.\n",
        "\n",
        "Try the following code and explain what it does:"
      ],
      "metadata": {
        "id": "UlPiP5tXSD6c"
      }
    },
    {
      "cell_type": "code",
      "source": [
        "text = \"abcdefghij\"\n",
        "len(text)"
      ],
      "metadata": {
        "id": "ee3NBiblSIqw"
      },
      "execution_count": null,
      "outputs": []
    },
    {
      "cell_type": "markdown",
      "source": [
        "Yes, it shows us the amount of characters in a string.\n",
        "\n",
        "Now try this:"
      ],
      "metadata": {
        "id": "T9u87ualSPXQ"
      }
    },
    {
      "cell_type": "code",
      "source": [
        "print(text[4])"
      ],
      "metadata": {
        "id": "gRre9hrHSP7h"
      },
      "execution_count": null,
      "outputs": []
    },
    {
      "cell_type": "markdown",
      "source": [
        "Here we want to print the character at position 4. Note that the first character \"a\" is at position 0! So position 4 gives us back \"e\".\n",
        "\n",
        "Now try:"
      ],
      "metadata": {
        "id": "wvd6Wq3VSZXh"
      }
    },
    {
      "cell_type": "code",
      "source": [
        "print(text[:4])"
      ],
      "metadata": {
        "id": "oNG2zvwVSXrR"
      },
      "execution_count": null,
      "outputs": []
    },
    {
      "cell_type": "code",
      "source": [
        "print(text[4:])"
      ],
      "metadata": {
        "id": "qP0XApWCSe1m"
      },
      "execution_count": null,
      "outputs": []
    },
    {
      "cell_type": "markdown",
      "source": [
        "Here you see that `[:4]` selects characters 0,1,2,3, which is \"abcd\". With `[4:]` we start with position 4 (counting from 0!) until the end of the string, which results in \"efghij\".\n",
        "\n",
        "We can also specify a range. Try this:"
      ],
      "metadata": {
        "id": "d_XDeDJ5Skt6"
      }
    },
    {
      "cell_type": "code",
      "source": [
        "print(text[4:8])"
      ],
      "metadata": {
        "colab": {
          "base_uri": "https://localhost:8080/"
        },
        "id": "lE2ddvIUSo9h",
        "outputId": "c26ef811-7238-4900-88eb-bf44f9889478"
      },
      "execution_count": null,
      "outputs": [
        {
          "output_type": "stream",
          "name": "stdout",
          "text": [
            "efgh\n"
          ]
        }
      ]
    },
    {
      "cell_type": "markdown",
      "source": [
        "Was it what you expected?\n",
        "With ranges, the maximum value is not included in the selection.\n",
        "\n",
        "We still have the variable `sentence` available. Write code below to select the second word of the sentence using the correct range."
      ],
      "metadata": {
        "id": "VZ99_2LZS43y"
      }
    },
    {
      "cell_type": "markdown",
      "source": [
        "Now try this:"
      ],
      "metadata": {
        "id": "albdAnHXStId"
      }
    },
    {
      "cell_type": "code",
      "source": [
        "print(text[-2])"
      ],
      "metadata": {
        "id": "HLFQENDXSxmC"
      },
      "execution_count": null,
      "outputs": []
    },
    {
      "cell_type": "markdown",
      "source": [
        "What did it do?\n",
        "\n",
        "Right, you have selected the second character from the right! Note that here we start counting with -1 for the first character on the right.\n",
        "\n",
        "Try this:"
      ],
      "metadata": {
        "id": "XLnYiAEnTG9T"
      }
    },
    {
      "cell_type": "code",
      "source": [
        "print(text[-4:])"
      ],
      "metadata": {
        "id": "Tt9cYav3TLLv"
      },
      "execution_count": null,
      "outputs": []
    },
    {
      "cell_type": "markdown",
      "source": [
        "In human language: start with the 4th character from the right and give me all characters from that position to the end of the string.\n",
        "\n",
        "Now try this and find out what it does:"
      ],
      "metadata": {
        "id": "CFfnMZwdTPIA"
      }
    },
    {
      "cell_type": "code",
      "source": [
        "print(text[::2])"
      ],
      "metadata": {
        "colab": {
          "base_uri": "https://localhost:8080/"
        },
        "id": "bunUT8I0TQEb",
        "outputId": "b88ea781-9fad-469a-8d37-85ee60612ea6"
      },
      "execution_count": null,
      "outputs": [
        {
          "output_type": "stream",
          "name": "stdout",
          "text": [
            "acegi\n"
          ]
        }
      ]
    },
    {
      "cell_type": "markdown",
      "source": [
        "We can also add the results of the *list slicing* to variables and insert this into strings using the format operation:"
      ],
      "metadata": {
        "id": "VN_QxlHNTWQ5"
      }
    },
    {
      "cell_type": "code",
      "source": [
        "nrOfCharacters = len(sentence)\n",
        "lastWord = sentence[-4:-1]\n",
        "print(\"The sentence has {} characters and the last word is: {}\".format(nrOfCharacters,lastWord))"
      ],
      "metadata": {
        "id": "fKIBTk7ZTmL7"
      },
      "execution_count": null,
      "outputs": []
    },
    {
      "cell_type": "markdown",
      "source": [
        "\n",
        "So you can easily insert variables at the places of the accolades (`{}`). They will be substituted in the same order of the variables in `.format()`\n",
        "\n",
        "This can also be written as:"
      ],
      "metadata": {
        "id": "Ai_2Ne-NT7cH"
      }
    },
    {
      "cell_type": "code",
      "source": [
        "print(f\"The sentence has {nrOfCharacters} characters and the last word is: {lastWord}\")"
      ],
      "metadata": {
        "id": "uWGxYtV-TXNY"
      },
      "execution_count": null,
      "outputs": []
    },
    {
      "cell_type": "markdown",
      "source": [
        "Besides list slicing there are also other operations that we can apply to strings. We can count the number of occurences of a specific character in a string:"
      ],
      "metadata": {
        "id": "j9VBrDLgUFbr"
      }
    },
    {
      "cell_type": "code",
      "source": [
        "print(sentence.count('o'))"
      ],
      "metadata": {
        "id": "RkS4K9IVUGcT"
      },
      "execution_count": null,
      "outputs": []
    },
    {
      "cell_type": "markdown",
      "source": [
        "We can also find the position of character:"
      ],
      "metadata": {
        "id": "ExwlkF15UQnX"
      }
    },
    {
      "cell_type": "code",
      "source": [
        "print(text.find('e'))\n",
        "sometext = \"Hey you, how are you doing?\"\n",
        "print(sometext.rfind(\"you\"))"
      ],
      "metadata": {
        "colab": {
          "base_uri": "https://localhost:8080/"
        },
        "id": "vJmvz0BPURf1",
        "outputId": "4dbd70da-6160-4926-98c0-73428ff277b4"
      },
      "execution_count": null,
      "outputs": [
        {
          "output_type": "stream",
          "name": "stdout",
          "text": [
            "4\n",
            "17\n"
          ]
        }
      ]
    },
    {
      "cell_type": "markdown",
      "source": [
        "`rfind` returns the lasts occurance of a string. So in `sometext` we have the word \"you\" twice. `rfind` returns `17` meaning that the last time that it found \"you\" is starting at position 17 (counting from 0).\n",
        "\n",
        "There are a few other useful string operations. Run the code below and will be obvious what it does:"
      ],
      "metadata": {
        "id": "zuy37lgtUg4J"
      }
    },
    {
      "cell_type": "code",
      "source": [
        "# Changes the string to upper case\n",
        "print(sometext.upper())\n",
        "\n",
        "# Splits the string on a character and returns it as list items. You'll learn about lists later\n",
        "print(sometext.split(\",\"))\n",
        "\n",
        "# Replaces strings\n",
        "print(sometext.replace(\"?\",\"!\"))"
      ],
      "metadata": {
        "id": "I82ClH7GUh7u"
      },
      "execution_count": null,
      "outputs": []
    },
    {
      "cell_type": "markdown",
      "source": [
        "There are also some special characters:\n",
        "\n",
        "`\\n` jumps to a new line\n",
        "\n",
        "`\\` is an escape character. You can put it before another character that has a meaning in the code and is not considered a string. This is often used to have strings with backslashes for file names on Windows (e.g. `\"C:\\\\folder\\\\filename.txt\"`). Because `\\` is already an escape character we need to use it twice to escape the escape character!\n",
        "\n",
        "Examples:"
      ],
      "metadata": {
        "id": "8ID0ob3uUq_z"
      }
    },
    {
      "cell_type": "code",
      "source": [
        "print(\"This is a very long sentence and I want to split it into two lines.\")\n",
        "print(\"This is a very long sentence\\nand I want to split it into two lines.\")\n",
        "\n",
        "print(\"This sentence contains a quote and I don't want the string to end (yet)\\\"\")"
      ],
      "metadata": {
        "id": "DvRIRO8iUqqB"
      },
      "execution_count": null,
      "outputs": []
    },
    {
      "cell_type": "markdown",
      "source": [
        "# Loops, Loops, Loops, Loops...\n",
        "##  Introduction\n",
        "(Our final lesson before we get into interacting with human input. Can't wait, can you?)\n",
        "\n",
        "Just imagine you needed a program to do something 20 times. What would you do? You could copy and paste the code 20 times, and have a virtually unreadable program, not to mention slow and pointless. Or, you could tell the computer to repeat a bit of code between point A and point B, until the time comes that you need it to stop. Such a thing is called a loop.\n",
        "\n",
        "## The 'While' loop\n",
        "The following are examples of a type of loop, called the 'while' loop:"
      ],
      "metadata": {
        "id": "OlSCMohibnrc"
      }
    },
    {
      "cell_type": "code",
      "source": [
        "a = 0\n",
        "while a < 10:\n",
        "    a = a + 1\n",
        "    print(a)"
      ],
      "metadata": {
        "id": "To3aOeOwbwTY"
      },
      "execution_count": null,
      "outputs": []
    },
    {
      "cell_type": "markdown",
      "source": [
        "How does this program work? Lets go through it in English:\n",
        "```\n",
        "'a' now equals 0\n",
        "As long as 'a' is less than 10, do the following:\n",
        "   Make 'a' one larger than what it already is.\n",
        "   Print on-screen what 'a' is now worth.\n",
        "```"
      ],
      "metadata": {
        "id": "7ZOOo_anb0sB"
      }
    },
    {
      "cell_type": "markdown",
      "source": [
        "What does this do? Let's go through what the computer would be 'thinking' when it is in the 'while' loop:"
      ],
      "metadata": {
        "id": "Gtl-gP-eb543"
      }
    },
    {
      "cell_type": "markdown",
      "source": [
        "```\n",
        "#JUST GLANCE OVER THIS QUICKLY\n",
        "#(It looks fancy, but is really simple)\n",
        "Is 'a' less than 10? YES (its 0)\n",
        "Make 'a' one larger (now 1)\n",
        "print on-screen what 'a' is (1)\n",
        "\n",
        "Is 'a' less than 10? YES (its 1)\n",
        "Make 'a' one larger (now 2)\n",
        "print on-screen what 'a' is (2)\n",
        "\n",
        "Is 'a' less than 10? YES (its 2)\n",
        "Make 'a' one larger (now 3)\n",
        "print on-screen what 'a' is (3)\n",
        "\n",
        "Is 'a' less than 10? YES (its 3)\n",
        "Make 'a' one larger (now 4)\n",
        "print on-screen what 'a' is (4)\n",
        "\n",
        "Is 'a' less than 10? YES (its 4)\n",
        "Make 'a' one larger (now 5)\n",
        "print on-screen what 'a' is (5)\n",
        "\n",
        "Is 'a' less than 10? YES (its 5)\n",
        "Make 'a' one larger (now 6)\n",
        "print on-screen what 'a' is (6)\n",
        "\n",
        "Is 'a' less than 10? YES (its 6)\n",
        "Make 'a' one larger (now 7)\n",
        "print on-screen what 'a' is (7)\n",
        "\n",
        "Is 'a' less than 10? YES (are you still here?)\n",
        "Make 'a' one larger (now 8)\n",
        "print on-screen what 'a' is (8)\n",
        "\n",
        "Is 'a' less than 10? YES (its 8)\n",
        "Make 'a' one larger (now 9)\n",
        "print on-screen what 'a' is (9)\n",
        "\n",
        "Is 'a' less than 10? YES (its 9)\n",
        "Make 'a' one larger (now 10)\n",
        "print on-screen what 'a' is (10)\n",
        "\n",
        "Is 'a' less than 10? NO (its 10, therefore isn't less than 10)\n",
        "Don't do the loop\n",
        "There's no code left to do, so the program ends\n",
        "```"
      ],
      "metadata": {
        "id": "1jpvpofkb9ha"
      }
    },
    {
      "cell_type": "markdown",
      "source": [
        "So in short, try to think of it that way when you write 'while' loops. This is how you write them, by the way (syntax):\n",
        "```\n",
        "while {condition that the loop continues}:\n",
        "    {what to do in the loop}\n",
        "    {have it indented, usually four spaces}\n",
        "the code here is not looped\n",
        "because it isn't indented\n",
        "```"
      ],
      "metadata": {
        "id": "avF5X06vcC_1"
      }
    },
    {
      "cell_type": "markdown",
      "source": [
        "Now try to understand this example and run to see if it is what you expected."
      ],
      "metadata": {
        "id": "Ark5PpOHcHVm"
      }
    },
    {
      "cell_type": "code",
      "source": [
        "x = 10\n",
        "while x != 0:\n",
        "    print(x)\n",
        "    x = x - 1\n",
        "    print(\"wow, we've counted x down, and now it equals\", x)\n",
        "print(\"And now the loop has ended.\")"
      ],
      "metadata": {
        "id": "H2aV95FZcInO"
      },
      "execution_count": null,
      "outputs": []
    },
    {
      "cell_type": "markdown",
      "source": [
        "## Boolean Expressions (Boolen... what?!?)\n",
        "What do you type in the area marked `{conditions that the loop continues}`? The answer is a boolean expression.<br>\n",
        "What? A forgotten concept for the non-math people here. Never mind, boolean expression just means a question that can be answered with a TRUE or FALSE response. For example, if you wanted to say your age is the same as the person next to you, you would type:\n",
        "\n",
        "`My age == the age of the person next to me`\n",
        "\n",
        "And the statement would be TRUE. If you were younger than the person opposite, you'd say:\n",
        "`My age < the age of the person opposite me`\n",
        "\n",
        "And the statement would be TRUE. If, however, you were to say the following, and the person opposite of you was younger than you:\n",
        "\n",
        "`My age < the age of the person opposite me`\n",
        "\n",
        "The statement would be FALSE - the truth is that it is the other way around. This is how a loop thinks - if the expression is true, keep looping. If it is false, don't loop. With this in mind, let's have a look at the operators (symbols that represent an action) that are involved in boolean expressions:<br>\n",
        "\n",
        "| Expression | Function  |\n",
        "|   :---:    |   :---:   |\n",
        "|    `<`     | Less than |\n",
        "| `<=` | Less than or equal to |\n",
        "| `>` | Greater than |\n",
        "| `>=` | Greater than or equal to |\n",
        "| `!=` | Not equal to |\n",
        "| `<>` | Not equal to (alternate) |\n",
        "| `==` | Equal to |\n",
        "\n",
        "Don't get `=` and `==` mixed up - the `=` operator makes what is on the left equal to what is on the right. the `==` operator says whether the thing on the left is the same as what is on the right, and returns True or False.\n",
        "\n",
        "\n"
      ],
      "metadata": {
        "id": "y0PC_Of_cSYr"
      }
    },
    {
      "cell_type": "markdown",
      "source": [
        "## Conditional Statements\n",
        "OK! We've (hopefully) covered 'while' loops. Now let's look at something a little different - conditionals.<br>\n",
        "Conditionals are where a section of code is only run if certain conditions are met. This is similar to the 'while' loop you just wrote, which only runs when x doesn't equal 0. However, Conditionals are only run once. The most common conditional in any program language, is the 'if' statement. Here is how it works:<br>\n",
        "```\n",
        "if {conditions to be met}:\n",
        "    {do this}\n",
        "    {and this}\n",
        "    {and this}\n",
        "{but this happens regardless}\n",
        "{because it isn't indented}\n",
        "```\n",
        "<br>\n",
        "Now some examples in Python:"
      ],
      "metadata": {
        "id": "CixoalmlcY3n"
      }
    },
    {
      "cell_type": "code",
      "source": [
        "#EXAMPLE 1\n",
        "y = 1\n",
        "if y == 1:\n",
        "    print(\"y still equals 1, I was just checking\")"
      ],
      "metadata": {
        "id": "l6njqirXcdAw"
      },
      "execution_count": null,
      "outputs": []
    },
    {
      "cell_type": "code",
      "source": [
        "#EXAMPLE 2\n",
        "print(\"We will show the even numbers up to 20\")\n",
        "n = 1\n",
        "while n <= 20:\n",
        "    if n % 2 == 0:\n",
        "        print(n)\n",
        "    n = n + 1\n",
        "print(\"there, done.\")"
      ],
      "metadata": {
        "id": "ELNdW0eLceH_"
      },
      "execution_count": null,
      "outputs": []
    },
    {
      "cell_type": "markdown",
      "source": [
        "Example 2 there looks tricky. But all we have done is run an `if` statement every time the `while` loop runs. Remember that the `%` just means the remainder from a division - just checking that there is nothing left over if the number is divided by two - showing it is even. If it is even, it prints what `n` is."
      ],
      "metadata": {
        "id": "QS8cZDtHcku4"
      }
    },
    {
      "cell_type": "markdown",
      "source": [
        "## `else` and `elif` - When it Ain't True\n",
        "There are many ways you can use the `if` statement to deal with situations where your boolean expression ends up FALSE. They are `else` and `elif`.<br>\n",
        "`else` simply tells the computer what to do if the conditions of `if` aren't met. For example, read the following:"
      ],
      "metadata": {
        "id": "wOCgGRIVcafF"
      }
    },
    {
      "cell_type": "code",
      "source": [
        "a = 1\n",
        "if a > 5:\n",
        "    print(\"This shouldn't happen.\")\n",
        "else:\n",
        "    print(\"This should happen.\")"
      ],
      "metadata": {
        "id": "wx_K_m2jlSak"
      },
      "execution_count": null,
      "outputs": []
    },
    {
      "cell_type": "markdown",
      "source": [
        "`a` is not greater than five, therefore what is under `else` is done.\n",
        "\n",
        "`elif` is just a shortened way of saying `else if`. When the `if` statement fails to be true, `elif` will do what is under it IF the conditions are met. For example:"
      ],
      "metadata": {
        "id": "SUzWBARwlPcK"
      }
    },
    {
      "cell_type": "code",
      "source": [
        "z = 4\n",
        "if z > 70:\n",
        "    print(\"Something is very wrong\")\n",
        "elif z < 7:\n",
        "    print(\"This is normal\")"
      ],
      "metadata": {
        "id": "mavFOe3LlqVx"
      },
      "execution_count": null,
      "outputs": []
    },
    {
      "cell_type": "markdown",
      "source": [
        "The `if` statement, along with `else` and `elif` follow this form:\n",
        "```Python\n",
        "if {conditions}:\n",
        "    {run this code}\n",
        "elif {conditions}:\n",
        "    {run this code}\n",
        "elif {conditions}:\n",
        "    {run this code}\n",
        "else:\n",
        "    {run this code}\n",
        "#You can have as many or as little elif statements as you need\n",
        "#anywhere from zero to the sky.\n",
        "#You can have at most one else statement\n",
        "#and only after all other ifs and elifs.\n",
        "```"
      ],
      "metadata": {
        "id": "g4Wai_RLlXeC"
      }
    },
    {
      "cell_type": "markdown",
      "source": [
        "***One of the most important points to remember is that you MUST have a colon `:` at the end of every line with an `if`, `elif`, `else` or `while` in it.***"
      ],
      "metadata": {
        "id": "igA85qy3lzrv"
      }
    },
    {
      "cell_type": "markdown",
      "source": [
        "## Indentation\n",
        "One other point is that the code to be executed if the conditions are met, MUST BE INDENTED. That means that if you want to loop the next five lines with a `while` loop, you must put a set number of spaces at the beginning of each of the next five lines. This is good programming practice in any language, but Python requires that you do it. Here is an example of both of the above points:"
      ],
      "metadata": {
        "id": "veGzv1Bflwbh"
      }
    },
    {
      "cell_type": "code",
      "source": [
        "a = 10\n",
        "while a > 0:\n",
        "    print(a)\n",
        "    if a > 5:\n",
        "        print(\"Big number!\")\n",
        "    elif a % 2 != 0:\n",
        "        print(\"This is an odd number\")\n",
        "        print(\"It isn't greater than five, either\")\n",
        "    else:\n",
        "        print(\"this number isn't greater than 5\")\n",
        "        print(\"nor is it odd\")\n",
        "        print(\"feeling special?\")\n",
        "    a = a - 1\n",
        "    print(\"we just made 'a' one less than what it was!\")\n",
        "    print(\"and unless a is not greater than 0, we'll do the loop again.\")\n",
        "print(\"well, it seems as if 'a' is now no bigger than 0!\")\n",
        "print(\"the loop is now over, and without furthur adue, so is this program!\")"
      ],
      "metadata": {
        "id": "2Bj7V9TNmCw8"
      },
      "execution_count": null,
      "outputs": []
    },
    {
      "cell_type": "markdown",
      "source": [
        "Notice the three levels of indents there:\n",
        "1.\tEach line in the first level starts with no spaces. It is the main program, and will always execute.\n",
        "2.\tEach line in the second level starts with four spaces. When there is an `if` or loop on the first level, everything on the second level after that will be looped/'ifed', until a new line starts back on the first level again.\n",
        "3.\tEach line in the third level starts with eight spaces. When there is an `if` or loop on the second level, everything on the third level after that will be looped/'ifed', until a new line starts back on the second level again.\n",
        "4.\tThis goes on infinitely, until the person writing the program has an internal brain explosion, and cannot understand anything he/she has written."
      ],
      "metadata": {
        "id": "57bQFjXZmKNZ"
      }
    },
    {
      "cell_type": "markdown",
      "source": [
        "# Functions\n",
        "## Introduction\n",
        "Last lesson I said that we would delve into purposeful programming. That involves user input, and user input requires a thing called functions.\n",
        "\n",
        "What are functions? Well, in effect, functions are little self-contained programs that perform a specific task, which you can incorporate into your own, larger programs. After you have created a function, you can use it at any time, in any place. This saves you the time and effort of having to retell the computer what to do every time it does a common task, for example getting the user to type something in.\n",
        "\n",
        "## Using a Function\n",
        "Python has lots of pre-made functions, that you can use right now, simply by 'calling' them. 'Calling' a function involves you giving a function input, and it will return a value (like a variable would) as output. Don't understand? Here is the general form that calling a function takes:<br>\n",
        "`function_name(parameters)`\n",
        "\n",
        "See? Easy.\n",
        "\n",
        "- `Function_name` identifies which function it is you want to use (You'd figure...). For example, the function `raw_input`, which will be the first function that we will use.\n",
        "- `Parameters` are the values you pass to the function to tell it what is should do, and how to do it... for example, if a function multiplied any given number by five, the stuff in parameters tells the function which number it should multiply by five. Put the number 70 into parameters, and the function will do 70 x 5."
      ],
      "metadata": {
        "id": "CAcqOphYmX1B"
      }
    },
    {
      "cell_type": "markdown",
      "source": [
        "## Parameters and Returned Values - Communicating with Functions\n",
        "Well, that's all well and good that the program can multiply a number by five, but what does it have to show for it? A warm fuzzy feeling? Your program needs to see the results of what happened, to see what 70 x 5 is, or to see if there is a problem somewhere (like you gave it a letter instead of a number). So how does a function show what is does?\n",
        "\n",
        "Well, in effect, when a computer runs a function, it doesn't actually see the function name, but the result of what the function did. Variables do the exact same thing - the computer doesn't see the variable name, it sees the value that the variable holds. Let's call this program that multiplied any number by five, `multiply()`. You put the number you want multiplied in the brackets. So if you typed this:\n",
        "\n",
        "`a = multiply(70)`\n",
        "\n",
        "The computer would actually see this:\n",
        "\n",
        "`a = 350`\n",
        "\n",
        "Note: don't bother typing in this code - `multiply()` isn't a real function, unless you create it.\n",
        "\n",
        "The function ran itself, then returned a number to the main program, based on what parameters it was given.\n",
        "\n",
        "Now let's try this with a real function, and see what it does. The function is called `input`, and asks the user to type in something. It then turns it into a string of text. Try the code below:"
      ],
      "metadata": {
        "id": "ejSEVDTVmgWb"
      }
    },
    {
      "cell_type": "code",
      "source": [
        "# this line makes 'a' equal to whatever you type in\n",
        "a = input(\"Type in something, and it will be repeated on screen: \")\n",
        "# this line prints what 'a' is now worth\n",
        "print(a)"
      ],
      "metadata": {
        "id": "Ty9OZyozmtqm"
      },
      "execution_count": null,
      "outputs": []
    },
    {
      "cell_type": "markdown",
      "source": [
        "Say in the above program, you typed in `hello` when it asked you to type something in. To the computer, this program would look like this:\n",
        "\n",
        "```Python\n",
        "a = \"hello\"\n",
        "print(\"hello\")\n",
        "```"
      ],
      "metadata": {
        "id": "2bGrejWYm5Lb"
      }
    },
    {
      "cell_type": "markdown",
      "source": [
        "## Define Your Own Functions\n",
        "Well, it is all well and good that you can use other people's functions, but what if you want to write your own functions, to save time, and maybe use them in other programs? This is where the `def` operator comes in. (An operator is just something that tells Python what to do, e.g. the `+` operator tells Python to add things, the `if` operator tells Python to do something if conditions are met.)\n",
        "\n",
        "This is how the `def` operator works:\n",
        "\n",
        "```\n",
        "def function_name(parameter_1,parameter_2):\n",
        "    {this is the code in the function}\n",
        "    {more code}\n",
        "    {more code}\n",
        "    return {value to return to the main program}\n",
        "{this code isn't in the function}\n",
        "{because it isn't indented}\n",
        "#remember to put a colon \":\" at the end\n",
        "#of the line that starts with 'def'\n",
        "```\n"
      ],
      "metadata": {
        "id": "QA_Ci9K9nLMU"
      }
    },
    {
      "cell_type": "markdown",
      "source": [
        "`function_name` is the name of the function. You write the code that is in the function below that line, and have it indented. (We will worry about `parameter_1` and `parameter_2` later, for now imagine there is nothing between the parentheses.\n",
        "\n",
        "Functions run completely independent of the main program. Remember when I said that when the computer comes to a function, it doesn't see the function, but a value, that the function returns? Here's the quote:\n",
        "\n",
        "To the computer, the variable 'a' doesn't look like 'a' - it looks like the value that is stored inside it. Functions are similar - to the main program (that is, the program that is running the function), they look like the value of what they give in return of running."
      ],
      "metadata": {
        "id": "Ni7w8PB1nQmE"
      }
    },
    {
      "cell_type": "markdown",
      "source": [
        "A function is like a miniature program that some parameters are given to - it then runs itself, and then returns a value. Your main program sees only the returned value. If that function flew to the moon and back, and then at the end had:\n",
        "\n",
        "`return \"hello\"`\n",
        "\n",
        "then all your program would see is the string `\"hello\"`, where the name of the function was. It would have no idea what else the program did.\n",
        "\n",
        "Because it is a separate program, a function doesn't see any of the variables that are in your main program, and your main program doesn't see any of the variables that are in a function. For example, here is a function that prints the words `\"hello\"` onscreen, and then returns the number `'1234'` to the main program:"
      ],
      "metadata": {
        "id": "1fAG_izlnU03"
      }
    },
    {
      "cell_type": "code",
      "source": [
        "# Below is the function\n",
        "def hello():\n",
        "    print(\"hello\")\n",
        "    return 1234\n",
        "\n",
        "# And here is the function being used\n",
        "print(hello())"
      ],
      "metadata": {
        "id": "nO-oCwICnZ_a"
      },
      "execution_count": null,
      "outputs": []
    },
    {
      "cell_type": "markdown",
      "source": [
        "So what happened?\n",
        "1.\twhen `def hello()` was run, a function called `hello` was created\n",
        "2.\tWhen the line `print(hello())` was run, the function `hello` was executed (The code inside it was run)\n",
        "3.\tThe function `hello` printed `\"hello\"` onscreen, then returned the number `1234` back to the main program\n",
        "4.\tThe main program now sees the line as `print(\"1234\")` and as a result, printed `1234`"
      ],
      "metadata": {
        "id": "voKnbeOqnlM0"
      }
    },
    {
      "cell_type": "markdown",
      "source": [
        "That accounts for everything that happened. Remember, that the main program had NO IDEA that the words `hello` were printed onscreen. All it saw was `1234`, and printed that onscreen."
      ],
      "metadata": {
        "id": "znwavaFUnsP7"
      }
    },
    {
      "cell_type": "markdown",
      "source": [
        "## Passing Parameters to functions\n",
        "There is one more thing we will cover in this (monstrously huge) lesson - passing parameters to a function. Think back to how we defined functions:<br>\n",
        "```\n",
        "def function_name(parameter_1,parameter_2):\n",
        "    {this is the code in the function}\n",
        "    {more code}\n",
        "    {more code}\n",
        "    return {value (e.g. text or number) to return to the main program}\n",
        "```\n",
        "\n",
        "Where `parameter_1` and `parameter_2` are (between the parentheses), you put the names of variables that you want to put the parameters into. Put as many as you need, just have them seperated by commas. When you run a function, the first value you put inside the parentheses would go into the variable where `parameter_1` is. The second one (after the first comma) would go to the variable where `parameter_2` is. This goes on for however many parameters there are in the function (from zero, to the sky). For example:"
      ],
      "metadata": {
        "id": "HOOzV8Nanw_u"
      }
    },
    {
      "cell_type": "code",
      "source": [
        "def funnyfunction(first_word,second_word,third_word):\n",
        "    print(\"The word created is: \" + first_word + second_word + third_word)\n",
        "    return first_word + second_word + third_word"
      ],
      "metadata": {
        "id": "gdnculV3n08I"
      },
      "execution_count": null,
      "outputs": []
    },
    {
      "cell_type": "markdown",
      "source": [
        "When you run the function above, you would type in something like this: `funnyfunction(\"meat\",\"eater\",\"man\")`. The first value (that is, \"meat\") would be put into the variable called first_word. The second value inside the brackets (that is, \"eater\") would be put into the variable called second_word, and so on. This is how values are passed from the main program to functions - inside the parentheses, after the function name.\n",
        "\n",
        "Add a new line to the script above that invokes the function."
      ],
      "metadata": {
        "id": "HwLOYqZJn6pl"
      }
    },
    {
      "cell_type": "markdown",
      "source": [
        "Let's write a function which average two numbers. Please use the cell below:"
      ],
      "metadata": {
        "id": "JKpP_tVen708"
      }
    },
    {
      "cell_type": "code",
      "source": [
        "#please define your function"
      ],
      "metadata": {
        "id": "eN9Sz2qloDfj"
      },
      "execution_count": null,
      "outputs": []
    },
    {
      "cell_type": "markdown",
      "source": [
        "## Tricky Ways You Can Pass Parameters\n",
        "Finally, as a bit of an interlude, I will explain what the line `add(eval(input(\"Add this: \")),eval(input(\"to this: \")))` means.\n",
        "\n",
        "I wanted to fit everything onto one line, with as few variables as possible. Remember what functions look like to the main program? Whatever value they return. If the numbers you passed to the add() function were 2 and 30, the main program would see this:\n",
        "\n",
        "`add(2,30)`\n",
        "\n",
        "The add program would then run, adding 2 and 30, then printing the result. The add program has no `return` operator - it doesn't return anything to the main program. It simply adds two numbers and prints them onscreen, and the main program doesn't see anything of it.\n",
        "\n",
        "Instead of `(eval(input(\"Add this: \")),eval(input(\"to this: \")))` as the parameters for the add program you could have variables. E.g.\n",
        "\n",
        "```\n",
        "num1 = 45\n",
        "num2 = 7\n",
        "add(num1,num2)\n",
        "```\n",
        "\n",
        "For the above, remember that the function you are passing the variables to cannot change the variables themselves - they are simply used as values. You could even put the values straight into the function:\n",
        "\n",
        "`add(45,7)`\n",
        "\n",
        "This is because the only thing the function sees are the values that are passed on as parameters. Those values are put into the variables that are mentioned when `add` is defined (the line `def add(a,b)`). The function then uses those parameters to do its job.\n",
        "\n",
        "In short:\n",
        "* The only thing functions see of the main program is the parameters that are passed to it\n",
        "* The only thing the main program sees of functions is the returned value that it passes back"
      ],
      "metadata": {
        "id": "G3dnZGxQo0lD"
      }
    },
    {
      "cell_type": "markdown",
      "source": [
        "# Tuples, Lists, and Dictionaries\n",
        "## Introduction\n",
        "Think about it - variables store one bit of information. They may regurgitate (just not on the carpet...) that information at any point, and their bit of information can be changed at any time. Variables are great at what they do - storing a piece of information that may change over time.\n",
        "\n",
        "But what if you need to store a long list of information, which doesn't change over time? Say, for example, the names of the months of the year. Or maybe a long list of information that does change over time? Say, for example, the names of all your cats. You might get new cats, some may die, some may become your dinner (we should trade recipies!). What about a phone book? For that you need to do a bit of referencing - you would have a list of names, and attached to each of those names, a phone number. How would you do that?"
      ],
      "metadata": {
        "id": "pNLfvsmxpK9m"
      }
    },
    {
      "cell_type": "markdown",
      "source": [
        "## The Solution - Lists, Tuples, and Dictionaries\n",
        "For these three problems, Python uses three different solutions - Tuples, Lists, and Dictionaries:\n",
        "* **Tuples** are just like lists, but you can't change their values. The values that you give it first up, are the values that you are stuck with for the rest of the program. Again, each value is numbered starting from zero, for easy reference. Example: the names of the months of the year.\n",
        "\n",
        "* **Lists** are what they seem - a list of values. Each one of them is numbered, starting from zero - the first one is numbered zero, the second 1, the third 2, etc. You can remove values from the list, and add new values to the end. Example: Your many cats' names.\n",
        "\n",
        "* **Dictionaries** are similar to what their name suggests - a dictionary. In a dictionary, you have an 'index' of words, and for each of them a definition. In Python, the word is called a 'key', and the definition a 'value'. The values in a dictionary aren't numbered - they aren't in any specific order, either - the key does the same thing. You can add, remove, and modify the values in dictionaries. Example: telephone book."
      ],
      "metadata": {
        "id": "KEIYqObKpWRF"
      }
    },
    {
      "cell_type": "markdown",
      "source": [
        "### Tuples\n",
        "Tuples are pretty easy to make. You give your tuple a name, then after that the list of values it will carry. For example, the months of the year:"
      ],
      "metadata": {
        "id": "zim-DY3ipkTP"
      }
    },
    {
      "cell_type": "code",
      "source": [
        "months = ('January','February','March','April','May','June',\\\n",
        "'July','August','September','October','November','  December')"
      ],
      "metadata": {
        "id": "6o84Kx8lpwLR"
      },
      "execution_count": null,
      "outputs": []
    },
    {
      "cell_type": "markdown",
      "source": [
        "* Note that the `\\` thingy at the end of the first line carries over that line of code to the next line. It is useful way of making big lines more readable.\n",
        "* Technically you don't have to put those parentheses there (the `(` and `)` thingies) but it stops Python from getting things confused.\n",
        "* You may have spaces after the commas if you feel it necessary - it doesn't really matter"
      ],
      "metadata": {
        "id": "so-iaizCprus"
      }
    },
    {
      "cell_type": "markdown",
      "source": [
        "Python then organises those values in a handy, numbered index - starting from zero, in the order that you entered them in. It would be organised like this:<br>\n",
        "\n",
        "| Index | Value |\n",
        "| :---: | :---: |\n",
        "| 0 | January |\n",
        "| 1 | February |\n",
        "| 2 | March |\n",
        "| 3 | April |\n",
        "| 4 | May |\n",
        "| 5 | June |\n",
        "| 6 | July |\n",
        "| 7 | August |\n",
        "| 8 | September |\n",
        "| 9 | October |\n",
        "| 10 | November |\n",
        "| 11 | December |\n",
        "And that is tuples! Really easy..."
      ],
      "metadata": {
        "id": "3_CHcZolp1v9"
      }
    },
    {
      "cell_type": "markdown",
      "source": [
        "### Lists\n",
        "Lists are extremely similar to tuples. Lists are modifiable (or 'mutable', as a programmer may say), so their values can be changed. Most of the time we use lists, not tuples, because we want to easily change the values of things if we need to.\n",
        "\n",
        "Lists are defined very similarly to tuples. Say you have FIVE cats, called Tom, Snappy, Kitty, Jessie and Chester. To put them in a list, you would do this:<br>"
      ],
      "metadata": {
        "id": "ertX6G2kqOGh"
      }
    },
    {
      "cell_type": "code",
      "source": [
        "cats = ['Tom', 'Snappy', 'Kitty', 'Jessie', 'Chester']"
      ],
      "metadata": {
        "id": "hhC1zzz5qXjl"
      },
      "execution_count": null,
      "outputs": []
    },
    {
      "cell_type": "markdown",
      "source": [
        "As you see, the code is exactly the same as a tuple, EXCEPT that all the values are put between square brackets, not parentheses. Again, you don't have to have spaces after the comma.\n",
        "\n",
        "You recall values from lists exactly the same as you do with tuples. For example, to print the name of your 3rd cat you would do this:"
      ],
      "metadata": {
        "id": "xjnE98JcqdKn"
      }
    },
    {
      "cell_type": "code",
      "source": [
        "print(cats[2])"
      ],
      "metadata": {
        "id": "E-dGC5VyqsgJ"
      },
      "execution_count": null,
      "outputs": []
    },
    {
      "cell_type": "markdown",
      "source": [
        "You can also recall a range of examples, like above, for example - `cats[0:2]` would recall your 1st and 2nd cats. Try it in the field above.\n",
        "\n",
        "Where lists come into their own is how they can be modified. To add a value to a list, you use the `append()` function. Let's say you got a new cat called Catherine. To add her to the list you'd do this:"
      ],
      "metadata": {
        "id": "c2UrtI0Kqta_"
      }
    },
    {
      "cell_type": "code",
      "source": [
        "cats.append('Catherine')\n",
        "print(cats)"
      ],
      "metadata": {
        "id": "FW9MZY0HqzCy"
      },
      "execution_count": null,
      "outputs": []
    },
    {
      "cell_type": "code",
      "source": [
        "#Remove your 2nd cat, Snappy. Woe is you.\n",
        "del cats[1]\n",
        "print(cats)"
      ],
      "metadata": {
        "id": "-ghpAOw_q-WJ"
      },
      "execution_count": null,
      "outputs": []
    },
    {
      "cell_type": "markdown",
      "source": [
        "# A quick interruption - For Loop\n",
        "\n",
        "## The `for` Loop\n",
        "Basically, the `for` loop does something for every value in a list. The way it is set out is a little confusing, but otherwise is very basic. Here is an example of it in code:"
      ],
      "metadata": {
        "id": "Zj1mI85RvVr3"
      }
    },
    {
      "cell_type": "code",
      "source": [
        "# Example 'for' loop\n",
        "# First, create a list to loop through:\n",
        "newList = [45, 'eat me', 90210, \"The day has come, the walrus said, \\\n",
        "to speak of many things\", -67]\n",
        "\n",
        "# create the loop:\n",
        "# Goes through newList, and sequentially puts each bit of information\n",
        "# into the variable value, and runs the loop\n",
        "for value in newList:\n",
        "    print(value)"
      ],
      "metadata": {
        "id": "vnTOgsC6wOLj"
      },
      "execution_count": null,
      "outputs": []
    },
    {
      "cell_type": "markdown",
      "source": [
        "As you see, when the loop executes, it runs through all of the values in the list mentioned after `in`. It then puts them into `value`, and executes through the loop, each time with value being worth something different. Let's see it again, in a classic cheerleading call that we all know:"
      ],
      "metadata": {
        "id": "44-ZN66swSbI"
      }
    },
    {
      "cell_type": "code",
      "source": [
        "# cheerleading program\n",
        "word = input(\"Who do you go for? \")\n",
        "\n",
        "for letter in word:\n",
        "    call = \"Gimme a \" + letter + \"!\"\n",
        "    print(call)\n",
        "    print(letter + \"!\")\n",
        "\n",
        "print(\"What does that spell?\")\n",
        "print(word + \"!\")"
      ],
      "metadata": {
        "id": "tTgjoESlwRe1"
      },
      "execution_count": null,
      "outputs": []
    },
    {
      "cell_type": "markdown",
      "source": [
        "A couple of things you've just learnt:\n",
        "* As you see, strings (remember - strings are lines of text) are just lists with lots of characters.\n",
        "* The program went through each of the letters (or values) in word, and it printed them onscreen.<br>"
      ],
      "metadata": {
        "id": "A3okIamPwbxQ"
      }
    },
    {
      "cell_type": "markdown",
      "source": [
        "### Dictionaries\n",
        "Okay, so there is more to life than the names of your cats. You need to call your sister, mother, son, the fruit man, and anyone else who needs to know that their favourite cat is dead. For that you need a telephone book.\n",
        "\n",
        "Now, the lists we've used above aren't really suitable for a telephone book. You need to know a number based on someone's name - not the other way around, like what we did with the cats. In the examples of months and cats, we gave the computer a number, and it gave us a name. This time we want to give the computer a name, and it gives us a number. For this we need *Dictionaries*.\n",
        "\n",
        "So how do we make a dictionary? Put away your binding equipment, it isn't that advanced.\n",
        "Remember, dictionaries have keys, and values. In a phone book, you have people's names, then their numbers. See a similarity?\n",
        "\n",
        "When you initially create a dictionary, it is very much like making a tuple or list. Tuples have `(` and `)` things, lists have `[` and `]` things. Guess what! Dictionaries have `{` and `}` things - curly braces. Here is an example below, showing a dictionary with four phone numbers in it:"
      ],
      "metadata": {
        "id": "ZjcnYeXcrKEG"
      }
    },
    {
      "cell_type": "code",
      "source": [
        "#Make the phone book:\n",
        "phonebook = {'Andrew Parson':8806336, \\\n",
        "'Emily Everett':6784346, 'Peter Power':7658344, \\\n",
        "'Lewis Lame':1122345}\n",
        "print(phonebook['Lewis Lame'])"
      ],
      "metadata": {
        "colab": {
          "base_uri": "https://localhost:8080/"
        },
        "id": "8hchNaCpswav",
        "outputId": "e4382d95-7aa3-4850-dca6-e222e4f68877"
      },
      "execution_count": null,
      "outputs": [
        {
          "output_type": "stream",
          "name": "stdout",
          "text": [
            "1122345\n"
          ]
        }
      ]
    },
    {
      "cell_type": "markdown",
      "source": [
        "When you run it you see that Lewis Lame's number is printed onscreen. Notice how instead of identifying the value by a number, like in the cats and months examples, we identify the value, using another value - in this case the person's name.\n",
        "\n",
        "Ok, you've created a new phone book. Now you want to add new numbers to the book. What do you do? A very simple line of code:"
      ],
      "metadata": {
        "id": "ROKsyMzBszzm"
      }
    },
    {
      "cell_type": "code",
      "source": [
        "#Add the person 'Gingerbread Man' to the phonebook:\n",
        "\n",
        "phonebook['Gingerbread Man'] = 1234567\n",
        "\n",
        "# Didn't think I would give you\n",
        "# my real number now, would I?"
      ],
      "metadata": {
        "id": "bznUTwbUs20V"
      },
      "execution_count": null,
      "outputs": []
    },
    {
      "cell_type": "code",
      "source": [
        "#check the content\n"
      ],
      "metadata": {
        "id": "VmbiBQ0StKyc"
      },
      "execution_count": null,
      "outputs": []
    },
    {
      "cell_type": "markdown",
      "source": [
        "You delete entries in a dictionary just like in a list. Let's say Andrew Parson is your neighbour, and shot your cat. You never want to talk to him again, and therefore don't need his number. Just like in a list, you'd do this:"
      ],
      "metadata": {
        "id": "g7uBw2n5tAYh"
      }
    },
    {
      "cell_type": "code",
      "source": [
        "del phonebook['Andrew Parson']"
      ],
      "metadata": {
        "id": "2W_RGikltBsM"
      },
      "execution_count": null,
      "outputs": []
    },
    {
      "cell_type": "markdown",
      "source": [
        "Remember that append function that we used with the list? Well, there are quite a few of those that can be used with dictionaries. Below, I will write you a program, and it will incorporate some of those functions in. It will have comments along the way explaining what it does. Experiment as much as you like with it."
      ],
      "metadata": {
        "id": "1QQV4Navtz_h"
      }
    },
    {
      "cell_type": "code",
      "source": [
        "#A few examples of a dictionary\n",
        "\n",
        "#First we define the dictionary\n",
        "#it will have nothing in it this time\n",
        "ages = {}\n",
        "\n",
        "#Add a couple of names to the dictionary\n",
        "ages['Sue'] = 23\n",
        "ages['Peter'] = 19\n",
        "ages['Andrew'] = 78\n",
        "ages['Karren'] = 45\n",
        "\n",
        "#Use an 'if' statement to find a key in the list.\n",
        "#Remember - this is how 'if' statements work -\n",
        "#they run if something is true\n",
        "#and they don't when something is false.\n",
        "if 'Sue' in ages:\n",
        "    print(\"Sue is in the dictionary. She is\", \\\n",
        "ages['Sue'], \"years old\")\n",
        "\n",
        "else:\n",
        "    print(\"Sue is not in the dictionary\")\n",
        "\n",
        "#Use the function keys() -\n",
        "#This function returns a list\n",
        "#of all the names of the keys.\n",
        "#E.g.\n",
        "print(\"The following people are in the dictionary:\")\n",
        "print(ages.keys())\n",
        "\n",
        "#You could use this function to\n",
        "#put all the key names in a list:\n",
        "keys = ages.keys()\n",
        "\n",
        "#You can also get a list\n",
        "#of all the values in a dictionary.\n",
        "#You use the values() function:\n",
        "print(\"People are aged the following:\", \\\n",
        "ages.values())\n",
        "\n",
        "#Put it in a list:\n",
        "values = ages.values()\n",
        "\n",
        "#You can sort lists, with the sorted() function\n",
        "#It will sort all values in a list\n",
        "#alphabetically, numerically, etc...\n",
        "#You can't sort dictionaries -\n",
        "#they are in no particular order\n",
        "print(keys)\n",
        "sortedkeys = sorted(keys)\n",
        "print(sortedkeys)\n",
        "\n",
        "print(values)\n",
        "sortedvalues = sorted(values)\n",
        "print(sortedvalues)\n",
        "\n",
        "#You can find the number of entries\n",
        "#with the len() function:\n",
        "print(\"The dictionary has\", \\\n",
        "len(ages), \"entries in it\")"
      ],
      "metadata": {
        "id": "nGa7Xv3itvht"
      },
      "execution_count": null,
      "outputs": []
    },
    {
      "cell_type": "markdown",
      "source": [
        "# Modules\n",
        "## Introduction\n",
        "(You can also define classes in Python, but to create a moduble you don't have to have classes)\n",
        "\n",
        "As you may know, classes are neat combinations of variables and functions in a nice, neat package. Programming lingo calls this feature encapsulation, but regardless of what it is called, it's a really cool feature for keeping things together so the code can be used in many instances in lots of places. Of course, you've got to ask, \"how do I get my classes to many places, in many programs?\". The answer is to put them into a module, to be imported into other programs."
      ],
      "metadata": {
        "id": "wtP4JUoFxbMU"
      }
    },
    {
      "cell_type": "markdown",
      "source": [
        "## Module? What's a Module?\n",
        "A module is a Python file that (generally) has only definitions of variables, functions, and classes. For example, a module might look like this, which we store in a file `moduletest.py`:\n",
        "```Python\n",
        "### EXAMPLE PYTHON MODULE\n",
        "# Define some variables:\n",
        "numberone = 1\n",
        "ageofqueen = 78\n",
        "\n",
        "# define some functions\n",
        "def printhello():\n",
        "    print(\"hello\")\n",
        "    \n",
        "def timesfour(input):\n",
        "    print(eval(input) * 4)\n",
        "    \n",
        "# define a class\n",
        "class Piano:\n",
        "    def __init__(self):\n",
        "        self.type = input(\"What type of piano? \")\n",
        "        self.height = input(\"What height (in feet)? \")\n",
        "        self.price = input(\"How much did it cost? \")\n",
        "        self.age = input(\"How old is it (in years)? \")\n",
        "\n",
        "    def printdetails(self):\n",
        "        print(\"This piano is a/an \" + self.height + \" foot\", end=\" \")\n",
        "        print(self.type, \"piano, \" + self.age, \"years old and costing\\\n",
        "         \" + self.price + \" dollars.\")\n",
        "```\n",
        "\n",
        "As you see, a module looks pretty much like your normal Python program.\n",
        "\n",
        "So what do we do with a module? We `import` bits of it (or all of it) into other programs.\n",
        "\n",
        "To import all the variables, functions and classes from `moduletest.py` into another program you are writing, we use the `import` operator. For example, to import `moduletest.py` into your main program (`mainprogram.py`), you would have this:\n",
        "\n",
        "```Python\n",
        "### mainprogam.py\n",
        "### IMPORTS ANOTHER MODULE\n",
        "import moduletest\n",
        "```\n",
        "\n",
        "This assumes that the module is in the same directory as `mainprogram.py`, or is a default module that comes with Python. You leave out the `.py` at the end of the file name - it is ignored. You normally put all `import` statements at the beginning of the Python file, but technically they can be anywhere. In order to use the items in the module in your main program, you use the following:\n",
        "\n",
        "```Python\n",
        "### USING AN IMPORTED MODULE\n",
        "# Use the form modulename.itemname\n",
        "# Examples:\n",
        "print(moduletest.ageofqueen)\n",
        "cfcpiano = moduletest.Piano()\n",
        "cfcpiano.printdetails()\n",
        "```\n",
        "\n",
        "As you see, the modules that you import act very much like the classes  - anything inside them must be preceded with `modulename.` for it to work."
      ],
      "metadata": {
        "id": "Plr5et12xxXI"
      }
    },
    {
      "cell_type": "markdown",
      "source": [
        "## More module thingummyjigs (in lack of a better title)\n",
        "Wish you could get rid of the `modulename.` part that you have to put before every item you use from a module? No? Never?\n",
        "\n",
        "One way to avoid this hassle is to import only the wanted objects from the module. To do this, you use the `from` operator. You use it in the form of `from modulename import itemname`. Here is an example:\n",
        "\n",
        "```Python\n",
        "### IMPORT ITEMS DIRECTLY INTO YOUR PROGRAM\n",
        "\n",
        "# import them\n",
        "from moduletest import ageofqueen\n",
        "from moduletest import printhello\n",
        "\n",
        "# now try using them\n",
        "print(ageofqueen)\n",
        "printhello()\n",
        "```\n",
        "\n",
        "What is the point of this? Well, maybe you could use it to make your code a little more readable. If we get into heaps of modules inside modules, it could also remove that extra layer of crypticness.\n",
        "\n",
        "If you wanted to, you could import everything from a module in this way by using `from modulename import *`. Of course, this can be troublesome if there are objects in your program with the same name as some items in the module. With large modules, this can easily happen, and can cause many a headache. A better way to do this would be to import a module in the normal way (without the `from` operator) and then assign items to a local name:\n",
        "\n",
        "```Python\n",
        "### ASSIGNING ITEMS TO A LOCAL NAME\n",
        "\n",
        "# Assigning to a local name\n",
        "timesfour = moduletest.timesfour\n",
        "\n",
        "# Using the local name\n",
        "print(timesfour(565))\n",
        "```\n",
        "\n",
        "This way, you can remove some crypticness, AND have all of the items from a certain module.\n",
        "\n",
        "A final handy way to import modules is with an alias. Maybe you want to change a name because you've already used the same name for something else in your program, another module you imported uses the same name, or maybe you want to abbreviate a longer name that you use a lot. We can then use the `as` operator. That looks like this:\n",
        "\n",
        "```Python\n",
        "### IMPORT A MODULE WITH AN ALIAS\n",
        "# import module\n",
        "import moduletest as mt\n",
        "\n",
        "# use module\n",
        "print(mt.age)\n",
        "cfcpiano = mt.Piano()\n",
        "cfcpiano.printdetails()\n",
        "```\n",
        "\n",
        "Can you import pandas and numpy? Please consider using aliases, pd and np"
      ],
      "metadata": {
        "id": "eR1_w-qUyfjp"
      }
    },
    {
      "cell_type": "code",
      "source": [
        "#please import pandas and numpy here\n"
      ],
      "metadata": {
        "id": "DmWs02WAy7Lm"
      },
      "execution_count": null,
      "outputs": []
    },
    {
      "cell_type": "markdown",
      "source": [
        "#File I/O\n",
        "\n",
        "## Opening a file\n",
        "To open a text file you use, well, the `open()` function. Seems sensible. You pass certain parameters to `open()` to tell it in which way the file should be opened - `r` for read only, `w` for writing only (if there is an old file, it will be written over), `a` for appending (adding things on to the end of the file) and `r+` for both reading and writing. But less talk, let's open a file for reading (you can do this in Spyder later in the course). Open a normal text file. We will then print out what we read inside the file:\n",
        "```Python\n",
        "filename = 'C:\\\\temp\\\\readme.txt' # path to file.\\ is an escape character, so you need 2 or use / instead.\n",
        "fl = open(filename, 'r') # Open the file\n",
        "for line in fl:\n",
        "    print(line)\n",
        "fl.close() #close the file\n",
        "```\n",
        "\n",
        "A better way to write this is:\n",
        "```Python\n",
        "filename = 'C:\\\\temp\\\\readme.txt'\n",
        "with open(filename, 'r') as fl:\n",
        "    for line in fl:\n",
        "        print(line)\n",
        "```\n",
        "\n",
        "With the second method you don't have to add `fl.close`, it is automagically closed.\n",
        "\n",
        "*Don't forget the indendation*"
      ],
      "metadata": {
        "id": "aTAiNxTQYNJq"
      }
    },
    {
      "cell_type": "markdown",
      "source": [
        "## Seek and You Shall Find\n",
        "If you want to print the whole file, instead of looping over the lines you can use this:\n",
        "```Python\n",
        "\n",
        "filename = 'C:\\\\temp\\\\readme.txt'\n",
        "fl = open(filename, 'r')\n",
        "print(fl.read())\n",
        "```\n",
        "\n",
        "Did you try to run `print(fl.read())` a second time? Did it fail? It likely did, and reason is because the 'cursor' has changed it's place. Cursor? What cursor? Well, a cursor that you really cannot see, but still a cursor. This invisible cursor tells the read function (and many other I/O functions) where to start from. To set where the cursor is, you use the `seek()` function. It is used in the form `seek(offset, whence)`.\n",
        "\n",
        "`whence` is optional, and determines where to seek from. If `whence` is 0, the bytes/letters are counted from the beginning. If it is 1, the bytes are counted from the current cursor position. If it is 2, then the bytes are counted from the end of the file. If nothing is put there, 0 is assumed.\n",
        "\n",
        "`offset` decribes how far from `whence` that the cursor moves. for example:\n",
        "* `fl.seek(45,0)` would move the cursor to 45 bytes/letters after the beginning of the file.\n",
        "* `fl.seek(10,1)` would move the cursor to 10 bytes/letters after the current cursor position.\n",
        "* `fl.seek(-77,2)` would move the cursor to 77 bytes/letters before the end of the file (notice the - before the 77)\n"
      ],
      "metadata": {
        "id": "YTjvm_OcYrO_"
      }
    },
    {
      "cell_type": "markdown",
      "source": [
        "We can use `fl.seek()` to go to any spot in the file and then try typing `print(fl.read())`. It will print from the spot you seeked to. But realise that `fl.read()` moves the cursor to the end of the file - you will have to seek again.\n",
        "\n",
        "##Other I/O Functions\n",
        "There are many other functions that help you with dealing with files. They have many uses that empower you to do more, and make the things you can do easier. Let's have a look at `tell()`, `readline()`, `readlines()`, `write()` and `close()`.\n",
        "\n",
        "`tell()` returns where the cursor is in the file. It has no parameters, just type it in (like what the example below will show). This is infinitely useful, for knowing what you are referring to, where it is, and simple control of the cursor. To use it, type `fileobjectname.tell()` - where fileobjectname is the name of the file object you created when you opened the file (in `openfile = open('pathtofile', 'r')` the file object name is `openfile`).\n",
        "\n",
        "`readline()` reads from where the cursor is till the end of the line. Remember that the end of the line isn't the edge of your screen - the line ends when you press enter to create a new line. This is useful for things like reading a log of events, or going through something progressively to process it. There are no parameters you have to pass to `readline()`, though you can optionally tell it the maximum number of bytes/letters to read by putting a number in the brackets. Use it with `fileobjectname.readline()`.<br>\n",
        "\n",
        "`readlines()` is much like `readline()`, however `readlines()` reads all the lines from the cursor onwards, and returns a list, with each list element holding a line of code. Use it with `fileobjectname.readlines()`. For example, if you had the text file:\n",
        "```\n",
        "Line 1\n",
        "\n",
        "Line 3\n",
        "Line 4\n",
        "\n",
        "Line 6\n",
        "```\n",
        "then the returned list from `readlines()` would be:<br>\n",
        "\n",
        "| Index | Value |\n",
        "| :--: | :--: |\n",
        "| 0 | 'Line 1' |\n",
        "| 1 | \" |\n",
        "| 2 | 'Line 3' |\n",
        "| 3 | 'Line 4' |\n",
        "| 4 | \" |\n",
        "| 5 | 'Line 6' |\n",
        "\n",
        "The `write()` function, writes to the file. How did you guess??? It writes from where the cursor is, and overwrites text in front of it - like in MS Word, where you press 'insert' and it writes over the top of old text. To utilise this most purposeful function, put a string between the brackets to write e.g. `fileobjectname.write('this is a string')`.\n",
        "\n",
        "`close`, you may figure, closes the file so that you can no longer read or write to it until you reopen in again. Simple enough. To use, you would write `fileobjectname.close()`. Simple!\n",
        "\n",
        "Later in the course you can try this in the Python command line. Open up a test file (or create a new one...) and play around with these functions. You can do some simple (and very inconvenient) text editing."
      ],
      "metadata": {
        "id": "3m3HfLahZGbn"
      }
    },
    {
      "cell_type": "markdown",
      "source": [
        "## Mmm, Pickles\n",
        "Pickles, in Python, are to be eaten. Their flavour is just too good to let programmers leave them in the fridge.\n",
        "\n",
        "Ok, just joking there. Pickles, in Python, are objects saved to a file. An object in this case could be a variable, instance of a class, or a list, dictionary, or tuple. Other things can also be pickled, but with limits. The object can then be restored, or unpickled, later on. In other words, you are 'saving' your objects.\n",
        "\n",
        "So how do we pickle? With the `dump()` function, which is inside the pickle module - so at the beginning of your program you will have to write `import pickle`. Simple enough? Then open an empty file, and use `pickle.dump()` to drop the object into that file. Let's try that:\n",
        "\n",
        "```Python\n",
        "### pickletest.py\n",
        "### PICKLE AN OBJECT\n",
        "\n",
        "# import the pickle module\n",
        "import pickle\n",
        "\n",
        "# lets create something to be pickled\n",
        "# How about a list?\n",
        "picklelist = ['one',2,'three','four',5,'can you count?']\n",
        "\n",
        "# now create a file\n",
        "# replace filename with the file you want to create\n",
        "# wb means that it's written in a binary file\n",
        "file = open('filename', 'wb')\n",
        "\n",
        "# now let's pickle picklelist\n",
        "pickle.dump(picklelist,file)\n",
        "\n",
        "# close the file, and your pickling is complete\n",
        "file.close()\n",
        "```\n",
        "\n",
        "The code to do this is laid out like `pickle.dump(object_to_pickle, file_object)` where:\n",
        "* `object_to_pickle` is the object you want to pickle (i.e. save it to file)\n",
        "* `file_object` is the file object you want to write to (in this case, the file object is `file`)"
      ],
      "metadata": {
        "id": "pevAhQr6ZLh-"
      }
    },
    {
      "cell_type": "markdown",
      "source": [
        "Now to re-open, or unpickle, your file we would use `pickle.load()`:<br>\n",
        "```Python\n",
        "### unpickletest.py\n",
        "### unpickle file\n",
        "\n",
        "# import the pickle module\n",
        "import pickle\n",
        "\n",
        "# now open a file for reading\n",
        "# replace filename with the path to the file you created in pickletest.py\n",
        "unpicklefile = open('filename', 'rb')\n",
        "\n",
        "# now load the list that we pickled into a new object\n",
        "unpickledlist = pickle.load(unpicklefile)\n",
        "\n",
        "# close the file, just for safety\n",
        "unpicklefile.close()\n",
        "\n",
        "# Try out using the list\n",
        "for item in unpickledlist:\n",
        "    print(item)\n",
        "```\n",
        "Nifty, eh?<br>\n",
        "\n",
        "Of course, the limitation above is that we can only put in one object to a file. We could get around this by putting lots of picklable objects in a list or dictionary, and then pickling that list or dictionary. This is the quickest and easiest way, but you can do some pretty advanced stuff if you have advanced knowledge of pickle.<br>\n",
        "    \n",
        "Which we won't cover."
      ],
      "metadata": {
        "id": "n56roW46Zgtv"
      }
    },
    {
      "cell_type": "markdown",
      "source": [
        "##Exercise\n",
        "Please read the first 1000 lines from the lego_sets.csv in the DATA folder and split each line by using comma.\n",
        "As you do go through each line populate two dictinaries, Price and Difficulty, which uses product id as the key and price and review diffulty as your values."
      ],
      "metadata": {
        "id": "GhiHzAHenBwb"
      }
    },
    {
      "cell_type": "code",
      "source": [
        "filename = '/content/drive/MyDrive/DATA/lego_setsHB.csv'\n",
        "counter=1000\n",
        "price = {}\n",
        "difficulty = {}\n",
        "with open(filename, 'r') as fl:\n",
        "    next(fl)\n",
        "    for line in fl:\n",
        "        #print(line)\n",
        "        tokens = line.split(',')\n",
        "        #for el in tokens:\n",
        "        #    print(el, end='--')\n",
        "        #print()\n",
        "        price[tokens[4]] = tokens[0]\n",
        "        difficulty[tokens[4]] = tokens[5]\n",
        "        counter+=1\n",
        "        if counter==1000:\n",
        "          break\n",
        "for key, value in price.items():\n",
        "    print(key, value, difficulty[key])"
      ],
      "metadata": {
        "colab": {
          "base_uri": "https://localhost:8080/"
        },
        "id": "y0QeI6dWn_E-",
        "outputId": "d138bcd3-dc38-4946-e8a7-bfcfc21e6769"
      },
      "execution_count": 9,
      "outputs": [
        {
          "output_type": "stream",
          "name": "stdout",
          "text": [
            "75823 31.1922 Average\n",
            "75822 19.4922 Easy\n",
            "75821 12.4722 Easy\n",
            "21030 121.9878 Average\n",
            "21035 97.5878 Challenging\n",
            "21039 81.7278 Average\n",
            "21028 67.0878 Average\n",
            "21029 60.9878 Average\n",
            "21034 54.8878 Average\n",
            "21033 54.8878 Average\n",
            "21036 48.7878 Average\n",
            "21019 42.6878 Average\n",
            "21032 40.2478 Easy\n",
            "17101 202.9971 Average\n",
            "41597 36.5878 Average\n",
            "41614 24.3878 Easy\n",
            "41613 24.3878 Very Easy\n",
            "41609 12.1878 Very Easy\n",
            "41608 12.1878 Very Easy\n",
            "41604 12.1878 Average\n",
            "41605 12.1878 Easy\n",
            "41606 12.1878 Easy\n",
            "41607 12.1878 \n",
            "41485 10.1322 Easy\n",
            "40270 12.1878 Easy\n",
            "41599 12.1878 Easy\n",
            "41598 12.1878 Very Easy\n",
            "41603 12.1878 Easy\n",
            "41602 12.1878 Easy\n",
            "41600 12.1878 Very Easy\n",
            "41601 12.1878 Easy\n",
            "41611 24.3878 Easy\n",
            "41610 24.3878 \n",
            "40271 12.1878 Easy\n",
            "41487 10.1322 Easy\n",
            "41488 10.1322 Very Easy\n",
            "41594 10.1322 Very Easy\n",
            "41486 10.1322 Very Easy\n",
            "41585 10.1322 Very Easy\n",
            "41590 10.1322 Easy\n",
            "41593 10.1322 Easy\n",
            "41592 10.1322 Easy\n",
            "41595 10.1322 Easy\n",
            "41596 10.1322 Average\n",
            "41588 10.1322 Easy\n",
            "41591 10.1322 Easy\n",
            "41587 10.1322 Very Easy\n",
            "41586 10.1322 Easy\n",
            "60175 54.8878 \n",
            "60052 231.7878 Average\n",
            "60051 158.5878 Average\n",
            "60162 181.7678 Average\n",
            "60167 128.0878 Average\n",
            "60161 121.9878 Average\n",
            "60141 134.1878 Easy\n",
            "60188 121.9878 \n",
            "60110 121.9878 Average\n",
            "60174 109.7878 Average\n",
            "60169 85.3878 Average\n",
            "60140 73.1878 Easy\n",
            "60160 60.9878 Average\n",
            "60173 60.9878 Average\n",
            "60166 60.9878 Challenging\n",
            "60139 48.7878 Easy\n",
            "60154 48.7878 Easy\n",
            "60186 54.8878 Average\n",
            "60153 48.7878 Very Easy\n",
            "60138 36.5878 Average\n",
            "60165 36.5878 Very Easy\n",
            "60172 36.5878 \n",
            "60159 36.5878 Easy\n",
            "60108 36.5878 Average\n",
            "60182 36.5878 Easy\n",
            "60183 36.5878 Easy\n",
            "60107 24.3878 Easy\n",
            "60180 24.3878 Average\n",
            "60150 24.3878 Easy\n",
            "7499 21.9478 Easy\n",
            "60148 24.3878 Easy\n",
            "60179 24.3878 Easy\n",
            "60181 24.3878 Easy\n",
            "60137 24.3878 Easy\n",
            "60176 18.2878 Easy\n",
            "60185 18.2878 Easy\n",
            "10751 24.3878 \n",
            "60164 24.3878 Easy\n",
            "60158 24.3878 Average\n",
            "7895 24.3878 Very Easy\n",
            "7280 14.6278 Very Easy\n",
            "7281 14.6278 Very Easy\n",
            "60177 12.1878 Easy\n",
            "60157 12.1878 Easy\n",
            "10750 12.1878 \n",
            "60163 12.1878 Very Easy\n",
            "60171 12.1878 \n",
            "60184 12.1878 Very Easy\n",
            "60178 12.1878 Easy\n",
            "60170 7.3078 Very Easy\n",
            "60156 7.3078 Easy\n",
            "60134 38.9922 Very Easy\n",
            "60125 140.3922 Average\n",
            "60124 116.9922 Average\n",
            "60109 77.9922 Easy\n",
            "60143 46.7922 \n",
            "60129 46.7922 Easy\n",
            "60123 46.7922 Easy\n",
            "60122 38.9922 Average\n",
            "60119 31.1922 Easy\n",
            "60168 31.1922 \n",
            "60155 31.1922 Easy\n",
            "60101 23.3922 Easy\n",
            "60121 23.3922 Easy\n",
            "60117 19.4922 Easy\n",
            "60142 19.4922 Easy\n",
            "60136 10.1322 Easy\n",
            "60146 10.1322 Easy\n",
            "60145 10.1322 Very Easy\n",
            "60120 10.1322 Easy\n",
            "60100 10.1322 Very Easy\n",
            "60106 10.1322 Easy\n",
            "60135 6.2322 Very Easy\n",
            "10698 60.9878 Easy\n",
            "10696 36.5878 Easy\n",
            "10713 24.3878 Very Easy\n",
            "10693 24.3878 Easy\n",
            "10692 18.2878 Easy\n",
            "10701 18.2878 Very Easy\n",
            "10714 10.9678 Very Easy\n",
            "10700 10.9678 Very Easy\n",
            "10706 6.0878 Very Easy\n",
            "10708 6.0878 Easy\n",
            "10707 6.0878 Average\n",
            "10709 6.0878 Easy\n",
            "630 3.0378 Very Easy\n",
            "10694 19.4922 Easy\n",
            "10699 7.7922 Very Easy\n",
            "31069 82.9478 Average\n",
            "31070 67.0878 Average\n",
            "31081 48.7878 Average\n",
            "31079 36.5878 Easy\n",
            "31080 36.5878 Easy\n",
            "31066 37.8078 Easy\n",
            "31068 42.6878 Average\n",
            "31067 30.4878 Average\n",
            "31062 24.3878 Average\n",
            "31074 24.3878 Easy\n",
            "31076 24.3878 Average\n",
            "31075 24.3878 Easy\n",
            "31058 19.5078 Easy\n",
            "31073 18.2878 Easy\n",
            "31056 12.1878 Easy\n",
            "31057 12.1878 Easy\n",
            "31071 12.1878 Average\n",
            "31072 12.1878 \n",
            "31046 19.4922 Average\n",
            "31059 19.4922 Average\n",
            "31051 58.4922 Average\n",
            "31064 35.0922 Average\n",
            "31035 31.1922 Easy\n",
            "31063 31.1922 Average\n",
            "31049 31.1922 Average\n",
            "31047 19.4922 Average\n",
            "31060 19.4922 \n",
            "31043 10.1322 Easy\n",
            "31029 10.1322 Average\n",
            "10256 402.5878 Challenging\n",
            "10260 207.3878 Challenging\n",
            "10259 77.9922 Average\n",
            "10255 317.1878 Challenging\n",
            "10253 268.3878 Challenging\n",
            "10214 280.5878 Challenging\n",
            "10257 251.3078 Challenging\n",
            "10247 231.7878 Challenging\n",
            "10251 182.9878 Challenging\n",
            "10243 195.1878 Challenging\n",
            "10246 195.1878 Challenging\n",
            "10258 165.9078 Average\n",
            "10220 121.9878 Challenging\n",
            "10252 115.8878 Average\n",
            "10242 115.8878 Average\n",
            "10254 101.3922 Average\n",
            "70922 341.5878 Challenging\n",
            "76087 146.3878 Average\n",
            "71171 121.9878 Average\n",
            "70923 103.6878 Average\n",
            "76086 60.9878 Average\n",
            "70921 69.5278 Average\n",
            "76097 54.8878 Average\n",
            "76098 48.7878 Easy\n",
            "70919 48.7878 Easy\n",
            "70920 48.7878 Average\n",
            "10753 36.5878 Easy\n",
            "70918 30.4878 \n",
            "76085 35.3678 Easy\n",
            "76096 36.5878 Average\n",
            "41232 85.7922 Average\n",
            "41230 27.2922 Easy\n",
            "41231 31.1922 Average\n",
            "41233 14.0322 Average\n",
            "76052 257.3922 Average\n",
            "41239 101.3922 \n",
            "76055 77.9922 Average\n",
            "76054 58.4922 Easy\n",
            "41238 58.4922 \n",
            "41237 42.8922 Average\n",
            "76045 31.1922 Average\n",
            "76075 31.1922 Easy\n",
            "76056 31.1922 Average\n",
            "76025 19.4922 Easy\n",
            "41234 14.0322 Average\n",
            "76044 12.4722 Easy\n",
            "76068 10.1322 Easy\n",
            "76069 10.1322 Easy\n",
            "76070 10.1322 Easy\n",
            "71287 24.8429 \n",
            "71343 24.8429 Easy\n",
            "71346 35.4929 \n",
            "71349 24.8429 Easy\n",
            "71255 35.4929 Easy\n",
            "71242 63.8929 Average\n",
            "71264 63.8929 Easy\n",
            "71267 23.3922 Average\n",
            "71248 42.5929 Easy\n",
            "71229 35.4929 Easy\n",
            "71235 23.3922 Average\n",
            "71348 11.6922 Very Easy\n",
            "71266 11.6922 Average\n",
            "71238 24.8429 Easy\n",
            "71218 11.6922 Easy\n",
            "71232 11.6922 Average\n",
            "71040 426.9878 Challenging\n",
            "71042 280.5878 Average\n",
            "41148 92.7078 Average\n",
            "41154 97.5878 Challenging\n",
            "41153 67.0878 Average\n",
            "41150 54.8878 Easy\n",
            "41152 54.8878 Easy\n",
            "41146 54.8878 Average\n",
            "10744 48.7878 Average\n",
            "41145 36.5878 Average\n",
            "10736 30.4878 Average\n",
            "10743 30.4878 Easy\n",
            "10742 24.3878 Easy\n",
            "41155 24.3878 \n",
            "41151 18.2878 Average\n",
            "10730 12.1878 Very Easy\n",
            "10733 12.1878 Easy\n",
            "40307 12.1878 Easy\n",
            "40388 12.1878 Easy\n",
            "10732 12.1878 \n",
            "10731 12.1878 Easy\n",
            "41066 31.1922 Easy\n",
            "41149 23.3922 Challenging\n",
            "41142 19.4922 Very Easy\n",
            "41147 19.4922 Easy\n",
            "41144 10.1322 \n",
            "41143 6.2322 \n",
            "10880 36.5878 \n",
            "10879 24.3878 \n",
            "10508 146.3878 Average\n",
            "10805 134.1878 Easy\n",
            "10840 97.5878 Easy\n",
            "10869 79.2878 \n",
            "10836 79.2878 \n",
            "10813 79.2878 Average\n",
            "10864 60.9878 \n",
            "10507 67.0878 Easy\n",
            "10835 54.8878 \n",
            "10844 48.7878 \n",
            "10841 54.8878 \n",
            "10846 67.0878 Easy\n",
            "10827 45.1278 Very Easy\n",
            "10834 36.5878 Average\n",
            "10823 40.2478 Average\n",
            "10857 36.5878 Easy\n",
            "10837 23.3922 Easy\n",
            "10876 36.5878 \n",
            "10863 36.5878 \n",
            "10878 36.5878 Very Easy\n",
            "10868 36.5878 \n",
            "10865 32.9278 \n",
            "10572 36.5878 Very Easy\n",
            "10592 32.9278 Very Easy\n",
            "10597 30.4878 Easy\n",
            "10839 30.4878 \n",
            "10845 30.4878 Average\n",
            "10871 32.9278 \n",
            "10833 24.3878 Average\n",
            "10847 24.3878 Easy\n",
            "10816 24.3878 Easy\n",
            "10812 24.3878 Average\n",
            "10856 24.3878 Easy\n",
            "10867 24.3878 \n",
            "10877 24.3878 \n",
            "10861 24.3878 \n",
            "10843 18.2878 \n",
            "10832 18.2878 \n",
            "10809 18.2878 Easy\n",
            "10862 18.2878 \n",
            "2304 17.0678 Easy\n",
            "10838 12.1878 Very Easy\n",
            "10870 12.1878 \n",
            "10858 12.1878 \n",
            "10851 6.0878 \n",
            "10859 6.0878 \n",
            "10860 6.0878 \n",
            "10608 23.3922 Average\n",
            "10607 11.6922 Easy\n",
            "10820 58.4922 Very Easy\n",
            "10804 50.6922 Easy\n",
            "10855 31.1922 \n",
            "10606 27.2922 \n",
            "10822 31.1922 Very Easy\n",
            "10817 31.1922 \n",
            "10828 23.3922 \n",
            "10590 19.4922 Easy\n",
            "10616 15.5922 Easy\n",
            "10818 24.3878 \n",
            "10615 11.6922 Very Easy\n",
            "10801 10.1322 Easy\n",
            "10808 10.1322 Very Easy\n",
            "10831 10.1322 \n",
            "10849 3.8922 \n",
            "10852 3.8922 Very Easy\n",
            "10850 3.8922 Easy\n",
            "41188 97.5878 \n",
            "41194 79.2878 \n",
            "41187 69.5278 Average\n",
            "41193 54.8878 Average\n",
            "41183 36.5878 Average\n",
            "41192 40.2478 Average\n",
            "41191 36.5878 Average\n",
            "41186 24.3878 Average\n",
            "41190 18.2878 Easy\n",
            "41185 58.4922 Average\n",
            "41181 10.1322 Easy\n",
            "41182 19.4922 Average\n",
            "41318 121.9878 Average\n",
            "41314 91.4878 Average\n",
            "41317 91.4878 Challenging\n",
            "41340 91.4878 Average\n",
            "41324 79.2878 Average\n",
            "41339 73.1878 \n",
            "41313 67.0878 Easy\n",
            "41338 54.8878 Average\n",
            "41320 54.8878 \n",
            "41323 54.8878 Average\n",
            "41325 54.8878 Challenging\n",
            "41336 43.9078 Average\n",
            "41335 36.5878 Challenging\n",
            "41322 36.5878 Average\n",
            "41316 36.5878 Easy\n",
            "41311 36.5878 Easy\n",
            "41319 30.4878 Easy\n",
            "41334 32.9278 Average\n",
            "41333 24.3878 \n",
            "41332 24.3878 \n",
            "10749 24.3878 \n",
            "41315 24.3878 Easy\n",
            "41330 18.2878 \n",
            "41329 18.2878 Easy\n",
            "10748 12.1878 Very Easy\n",
            "41328 12.1878 Easy\n",
            "41327 12.1878 Average\n",
            "40171 15.8478 Average\n",
            "41124 31.1922 Average\n",
            "41132 31.1922 Easy\n",
            "41128 19.4922 Average\n",
            "41303 5.4522 \n",
            "41130 121.9878 Average\n",
            "41134 77.9922 Easy\n",
            "41126 85.3878 Average\n",
            "41312 35.0922 Average\n",
            "41326 31.1922 Easy\n",
            "41300 19.4922 \n",
            "41310 19.4922 Easy\n",
            "41301 14.0322 \n",
            "41127 14.0322 Average\n",
            "41306 10.1322 Easy\n",
            "41309 10.1322 \n",
            "41123 10.1322 Easy\n",
            "41302 5.4522 Easy\n",
            "75827 463.5878 Challenging\n",
            "75828 58.4922 Average\n",
            "21313 85.3878 Average\n",
            "21314 42.6878 Easy\n",
            "21310 195.1878 Average\n",
            "21309 158.5878 Challenging\n",
            "21308 67.0878 Easy\n",
            "21312 30.4878 Easy\n",
            "21307 77.9922 Average\n",
            "10758 67.0878 \n",
            "10761 48.7878 Very Easy\n",
            "10757 36.5878 \n",
            "10760 36.5878 \n",
            "10756 30.4878 \n",
            "10759 32.9278 Very Easy\n",
            "10745 60.9878 Challenging\n",
            "10734 36.5878 \n",
            "10746 24.3878 Easy\n",
            "10754 30.4878 \n",
            "10739 24.3878 Easy\n",
            "10740 24.3878 Easy\n",
            "10755 24.3878 \n",
            "10738 18.2878 Average\n",
            "10737 18.2878 Easy\n",
            "10747 31.1922 Average\n",
            "10687 23.3922 Very Easy\n",
            "10725 31.1922 Very Easy\n",
            "10735 19.4922 Easy\n",
            "10722 14.0322 \n",
            "10726 12.4722 Very Easy\n",
            "10723 14.0322 Easy\n",
            "10720 10.1322 \n",
            "75930 170.7878 Easy\n",
            "75929 103.6878 Average\n",
            "75933 97.5878 \n",
            "75932 67.0878 Average\n",
            "75931 67.0878 Easy\n",
            "75928 60.9878 \n",
            "75927 48.7878 Average\n",
            "75926 30.4878 Easy\n",
            "76105 176.8878 Average\n",
            "76108 134.1878 Average\n",
            "76107 109.7878 Average\n",
            "76103 54.8878 Average\n",
            "76104 48.7878 Easy\n",
            "76102 36.5878 Easy\n",
            "76101 18.2878 Easy\n",
            "76088 73.1878 Average\n",
            "76078 73.1878 Easy\n",
            "76084 69.5278 Easy\n",
            "76083 54.8878 Average\n",
            "76100 48.7878 Average\n",
            "76077 47.5678 Easy\n",
            "76099 36.5878 Easy\n",
            "76082 35.3678 Easy\n",
            "76076 35.3678 Easy\n",
            "76091 12.1878 Easy\n",
            "76090 12.1878 \n",
            "76089 12.1878 \n",
            "76071 10.1322 Very Easy\n",
            "76080 31.1922 Average\n",
            "76067 31.1922 Easy\n",
            "76060 31.1922 Average\n",
            "76079 19.4922 Easy\n",
            "76029 12.4722 Very Easy\n",
            "76072 10.1322 Very Easy\n",
            "76073 10.1322 Easy\n",
            "31313 487.9878 Challenging\n",
            "45500 243.9878 Average\n",
            "45501 144.9971 Very Easy\n",
            "45506 42.6878 Very Easy\n",
            "45505 42.6878 \n",
            "45509 42.6878 \n",
            "45508 42.6878 Average\n",
            "45517 36.5878 Very Easy\n",
            "45502 36.5878 \n",
            "45503 30.4878 Easy\n",
            "45507 24.3878 \n",
            "45514 18.2878 \n",
            "45504 42.6878 Challenging\n",
            "21137 329.3878 Challenging\n",
            "21136 152.4878 Easy\n",
            "21134 121.9878 Average\n",
            "21135 97.5878 Challenging\n",
            "21144 79.2878 Easy\n",
            "21143 67.0878 Average\n",
            "21142 54.8878 \n",
            "21130 54.8878 Easy\n",
            "21140 24.3878 Average\n",
            "21141 24.3878 Average\n",
            "21123 28.0478 Easy\n",
            "21129 30.4878 Average\n",
            "21139 18.2878 \n",
            "21138 18.2878 Easy\n",
            "21122 77.9922 Easy\n",
            "21125 70.1922 Average\n",
            "21124 58.4922 Average\n",
            "21121 58.4922 Average\n",
            "21126 38.9922 Average\n",
            "21119 19.4922 Average\n",
            "71021 4.8678 Very Easy\n",
            "71020 4.8678 Very Easy\n",
            "71019 3.1122 Very Easy\n",
            "71018 3.1122 Very Easy\n",
            "70357 176.8878 Challenging\n",
            "72006 81.7278 Challenging\n",
            "72005 69.5278 \n",
            "72004 54.8878 Average\n",
            "72003 36.5878 \n",
            "72002 24.3878 Easy\n",
            "72001 24.3878 \n",
            "70358 23.3922 Average\n",
            "70365 10.1322 \n",
            "70347 10.1322 \n",
            "70317 101.3922 Challenging\n",
            "70352 85.7922 Average\n",
            "70322 70.1922 Average\n",
            "70355 58.4922 Average\n",
            "70354 38.9922 \n",
            "70321 46.7922 Challenging\n",
            "70359 23.3922 Easy\n",
            "70350 31.1922 Average\n",
            "70349 19.4922 Average\n",
            "70348 19.4922 Very Easy\n",
            "70313 19.4922 Average\n",
            "70361 14.0322 \n",
            "70362 10.1322 \n",
            "70366 10.1322 \n",
            "70364 10.1322 Very Easy\n",
            "70339 10.1322 Very Easy\n",
            "70337 10.1322 Easy\n",
            "70363 10.1322 \n",
            "70336 10.1322 \n",
            "70338 10.1322 Very Easy\n",
            "853516 14.0322 \n",
            "70372 3.1122 Very Easy\n",
            "70618 225.6878 Challenging\n",
            "70620 365.9878 Challenging\n",
            "70617 134.1878 Average\n",
            "70632 103.6878 Average\n",
            "70656 103.6878 Average\n",
            "70616 97.5878 Average\n",
            "70643 85.3878 Average\n",
            "70615 97.5878 Average\n",
            "70613 73.1878 Average\n",
            "70614 82.9478 Average\n",
            "70642 60.9878 Average\n",
            "70631 60.9878 Average\n",
            "70612 60.9878 Average\n",
            "70640 54.8878 \n",
            "70641 54.8878 Challenging\n",
            "70639 36.5878 Average\n",
            "70611 48.7878 Average\n",
            "70608 36.5878 Easy\n",
            "70609 36.5878 Easy\n",
            "70610 36.5878 Average\n",
            "70638 24.3878 Average\n",
            "70629 24.3878 Easy\n",
            "70607 24.3878 Easy\n",
            "70628 12.1878 Very Easy\n",
            "70633 12.1878 \n",
            "70635 12.1878 Very Easy\n",
            "70637 12.1878 Easy\n",
            "70606 12.1878 Easy\n",
            "70634 12.1878 \n",
            "70636 12.1878 \n",
            "70605 77.9922 Average\n",
            "70592 38.9922 Average\n",
            "70624 31.1922 Average\n",
            "70623 31.1922 Average\n",
            "70603 31.1922 Average\n",
            "70601 19.4922 Easy\n",
            "70621 10.1322 Easy\n",
            "2000431 683.1878 Average\n",
            "2000409 439.1878 Easy\n",
            "2000414 32.9278 Easy\n",
            "2000430 853.9878 Easy\n",
            "75889 140.2878 Average\n",
            "75888 54.8878 Average\n",
            "75884 19.5078 Easy\n",
            "75886 19.5078 Easy\n",
            "75885 19.5078 Average\n",
            "75883 134.1878 Average\n",
            "75881 43.9078 Easy\n",
            "75887 19.5078 Easy\n",
            "75877 19.5078 Easy\n",
            "75880 19.5078 Easy\n",
            "75879 19.5078 Easy\n",
            "75878 19.5078 Easy\n",
            "75871 14.0322 Easy\n",
            "75872 14.0322 Average\n",
            "75212 213.4878 Average\n",
            "75211 93.9278 Average\n",
            "75210 68.3078 Easy\n",
            "75208 36.5878 Easy\n",
            "75209 36.5878 Easy\n",
            "75537 36.5878 \n",
            "75536 36.5878 Easy\n",
            "75535 36.5878 \n",
            "75206 19.5078 Very Easy\n",
            "75207 19.5078 Very Easy\n",
            "75159 609.9878 Challenging\n",
            "75060 243.9878 Challenging\n",
            "75190 195.1878 Average\n",
            "75189 182.9878 Challenging\n",
            "75188 146.3878 Average\n",
            "75187 121.9878 Average\n",
            "75156 121.9878 Average\n",
            "75186 121.9878 Challenging\n",
            "75202 104.9078 Easy\n",
            "75179 109.7878 Average\n",
            "75102 109.7878 Average\n",
            "75155 103.6878 Average\n",
            "75180 109.7878 Average\n",
            "75185 92.7078 Challenging\n",
            "75172 97.5878 Average\n",
            "75532 73.1878 Challenging\n",
            "75178 79.2878 Easy\n",
            "75177 79.2878 Challenging\n",
            "75205 68.3078 Easy\n",
            "75201 81.7278 Easy\n",
            "75530 42.6878 Average\n",
            "75200 36.5878 Easy\n",
            "75204 54.8878 Easy\n",
            "75174 54.8878 Easy\n",
            "75199 36.5878 Easy\n",
            "75176 54.8878 Easy\n",
            "75183 36.5878 Easy\n",
            "75168 36.5878 Easy\n",
            "75182 36.5878 Easy\n",
            "75169 36.5878 Easy\n",
            "75529 32.9278 Easy\n",
            "75117 32.9278 Easy\n",
            "75531 32.9278 Very Easy\n",
            "75528 32.9278 Easy\n",
            "75196 24.3878 Easy\n",
            "75195 24.3878 Easy\n",
            "75526 24.3878 Easy\n",
            "75198 19.5078 Easy\n",
            "75197 19.5078 Very Easy\n",
            "75167 19.5078 Very Easy\n",
            "75166 19.5078 Very Easy\n",
            "75193 12.1878 Easy\n",
            "75194 12.1878 Easy\n",
            "75160 12.1878 Easy\n",
            "75161 12.1878 Easy\n",
            "75144 268.3878 Challenging\n",
            "75191 153.7078 Average\n",
            "75534 54.8878 Average\n",
            "75533 36.5878 Average\n",
            "75173 36.5878 Easy\n",
            "75181 243.9878 \n",
            "75192 974.78 Challenging\n",
            "75119 23.3922 Average\n",
            "75524 23.3922 Easy\n",
            "75525 23.3922 Very Easy\n",
            "75165 13.2522 Easy\n",
            "75095 179.3922 Average\n",
            "75104 116.9922 Average\n",
            "75154 70.1922 Average\n",
            "75139 58.4922 Easy\n",
            "75171 50.6922 Easy\n",
            "75147 46.7922 Easy\n",
            "75148 58.4922 Average\n",
            "75184 38.9922 Easy\n",
            "75170 31.1922 Easy\n",
            "75111 31.1922 Average\n",
            "75120 23.3922 Easy\n",
            "75118 23.3922 Easy\n",
            "75109 23.3922 Easy\n",
            "75121 23.3922 Easy\n",
            "75099 19.4922 Easy\n",
            "75523 23.3922 Easy\n",
            "75116 23.3922 Easy\n",
            "75107 19.4922 Easy\n",
            "75114 19.4922 Very Easy\n",
            "75164 13.2522 Very Easy\n",
            "75131 12.4722 Very Easy\n",
            "75132 12.4722 Very Easy\n",
            "75162 10.1322 Very Easy\n",
            "75125 10.1322 Easy\n",
            "75128 10.1322 Easy\n",
            "75163 10.1322 Very Easy\n",
            "75126 10.1322 Easy\n",
            "42070 329.3878 Challenging\n",
            "42056 365.9878 Challenging\n",
            "42055 292.7878 Challenging\n",
            "42078 195.1878 Average\n",
            "42069 170.7878 Average\n",
            "42066 164.6878 Challenging\n",
            "42064 121.9878 Challenging\n",
            "42077 121.9878 Average\n",
            "42065 109.7878 Easy\n",
            "42068 109.7878 Average\n",
            "42076 91.4878 Average\n",
            "42063 67.0878 Average\n",
            "42062 67.0878 Easy\n",
            "42075 54.8878 Easy\n",
            "42074 36.5878 Average\n",
            "42060 24.3878 Easy\n",
            "8293 43.9078 Easy\n",
            "42072 24.3878 \n",
            "42059 24.3878 Easy\n",
            "42073 24.3878 Easy\n",
            "42057 20.7278 Easy\n",
            "42058 24.3878 Easy\n",
            "42071 18.2878 Challenging\n",
            "42084 13.4078 Easy\n",
            "42054 179.3922 Challenging\n",
            "42052 140.3922 Challenging\n",
            "42039 124.7922 Challenging\n",
            "42053 116.9922 Average\n",
            "42037 54.5922 Average\n",
            "42049 50.6922 Average\n",
            "42036 38.9922 Average\n",
            "42061 38.9922 Average\n",
            "42032 19.4922 Average\n",
            "42033 19.4922 Easy\n",
            "42045 19.4922 Easy\n",
            "42031 11.6922 Easy\n",
            "42044 12.4722 Average\n",
            "70912 207.3878 Average\n",
            "70917 176.8878 Average\n",
            "70909 140.2878 Average\n",
            "70916 121.9878 Average\n",
            "70905 79.2878 Average\n",
            "70906 69.5278 Average\n",
            "70914 60.9878 Average\n",
            "70911 42.6878 Easy\n",
            "70903 42.6878 Easy\n",
            "70910 30.4878 Average\n",
            "70901 30.4878 Easy\n",
            "70913 18.2878 Easy\n",
            "70900 18.2878 Easy\n",
            "853638 17.1522 Very Easy\n",
            "70908 77.9922 Average\n",
            "70907 70.1922 Easy\n",
            "70915 58.4922 Average\n",
            "70904 35.0922 Average\n",
            "70902 19.4922 Easy\n",
            "10704 42.6878 \n",
            "10703 30.4878 Average\n",
            "10715 30.4878 \n",
            "31052 79.2878 Average\n",
            "10249 91.4878 Average\n",
            "71228 42.5929 Easy\n",
            "71245 42.5929 Very Easy\n",
            "71247 35.4929 Easy\n",
            "71246 35.4929 Easy\n",
            "71344 24.8429 Average\n",
            "71251 24.8429 Easy\n",
            "71234 24.8429 Easy\n",
            "71240 24.8429 Easy\n",
            "71286 24.8429 Easy\n",
            "10854 42.6878 \n",
            "10848 24.3878 \n",
            "9843 22.365 Very Easy\n",
            "70751 243.9878 Challenging\n",
            "75175 69.5278 Easy\n",
            "71217 18.2878 Easy\n",
            "71203 36.5878 Average\n",
            "71221 18.2878 Easy\n"
          ]
        }
      ]
    }
  ]
}